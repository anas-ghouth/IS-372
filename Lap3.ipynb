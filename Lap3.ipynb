{
 "cells": [
  {
   "cell_type": "code",
   "execution_count": 2,
   "metadata": {},
   "outputs": [],
   "source": [
    "def conform(fav):\n",
    "    fav = 42\n",
    "    return fav"
   ]
  },
  {
   "cell_type": "code",
   "execution_count": 3,
   "metadata": {},
   "outputs": [
    {
     "name": "stdout",
     "output_type": "stream",
     "text": [
      "welcome\n",
      "my favorite # is  7\n"
     ]
    }
   ],
   "source": [
    "if __name__== \"__main__\":\n",
    "    print('welcome')\n",
    "    fav =7\n",
    "    conform(fav)\n",
    "    print(\"my favorite # is \" , fav)"
   ]
  },
  {
   "cell_type": "code",
   "execution_count": 8,
   "metadata": {},
   "outputs": [
    {
     "name": "stdout",
     "output_type": "stream",
     "text": [
      "Typesss\n",
      "['sss']\n"
     ]
    }
   ],
   "source": [
    "class Student:\n",
    "    \n",
    "    def __init__(self,name):\n",
    "        self.name=name\n",
    "        self.course_list= []\n",
    "    def add(self, new_course):\n",
    "        self.course_list.append(new_course)\n",
    "\n",
    "class Person:\n",
    "    pass\n",
    "\n",
    "std=Student(\"Set_here_your_name\")\n",
    "txt = input(\"Type\")#input\n",
    "std.add(txt)\n",
    "print(std.course_list)"
   ]
  },
  {
   "cell_type": "code",
   "execution_count": null,
   "metadata": {},
   "outputs": [],
   "source": [
    "class Person:\n",
    "    def __init__(self,fname,lname):\n",
    "        self.firstname=fname\n",
    "        self.lastname=lname\n",
    "        \n",
    "    def printname(self):\n",
    "        print(self.firstname,self.lastname)\n",
    "        \n",
    "class Professor(Person):\n",
    "    def _init_(self,fname,lname):#E2.3\n",
    "        self.department='Information System'\n",
    "        Person._init_(self,fname,lname)\n",
    "        \n",
    "mhd = Professor(\"Mohammed\",\"Ali\")\n",
    "mhd.printname()\n",
    "print(mhd.department)"
   ]
  },
  {
   "cell_type": "code",
   "execution_count": null,
   "metadata": {},
   "outputs": [],
   "source": []
  }
 ],
 "metadata": {
  "kernelspec": {
   "display_name": "Python 3",
   "language": "python",
   "name": "python3"
  },
  "language_info": {
   "codemirror_mode": {
    "name": "ipython",
    "version": 3
   },
   "file_extension": ".py",
   "mimetype": "text/x-python",
   "name": "python",
   "nbconvert_exporter": "python",
   "pygments_lexer": "ipython3",
   "version": "3.8.5"
  }
 },
 "nbformat": 4,
 "nbformat_minor": 4
}
